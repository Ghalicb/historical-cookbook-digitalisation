{
 "cells": [
  {
   "cell_type": "code",
   "execution_count": 1,
   "metadata": {},
   "outputs": [],
   "source": [
    "import os\n",
    "import pandas as pd\n",
    "\n",
    "from constant import *\n",
    "from helpers import *"
   ]
  },
  {
   "cell_type": "markdown",
   "metadata": {},
   "source": [
    "### 1. Data Loading"
   ]
  },
  {
   "cell_type": "code",
   "execution_count": 2,
   "metadata": {},
   "outputs": [],
   "source": [
    "DATA_DIR = '../res/recipes/'"
   ]
  },
  {
   "cell_type": "code",
   "execution_count": 3,
   "metadata": {},
   "outputs": [],
   "source": [
    "# Collect all the recipes for all regions\n",
    "recipes_lst = []\n",
    "for filename in os.listdir(DATA_DIR):\n",
    "  if filename.endswith('.txt'):\n",
    "    recipes_lst += read_region_file(DATA_DIR+filename)\n",
    "\n",
    "# Create the dataframe with all the recipes\n",
    "recipes_df = pd.DataFrame(\n",
    "  recipes_lst, \n",
    "  columns= ['subregion', 'recipe_name', 'ingredients_inferred', 'nb_persons', 'ingredients', 'recipe_body']\n",
    ")"
   ]
  },
  {
   "cell_type": "code",
   "execution_count": 4,
   "metadata": {},
   "outputs": [
    {
     "data": {
      "text/html": [
       "<div>\n",
       "<style scoped>\n",
       "    .dataframe tbody tr th:only-of-type {\n",
       "        vertical-align: middle;\n",
       "    }\n",
       "\n",
       "    .dataframe tbody tr th {\n",
       "        vertical-align: top;\n",
       "    }\n",
       "\n",
       "    .dataframe thead th {\n",
       "        text-align: right;\n",
       "    }\n",
       "</style>\n",
       "<table border=\"1\" class=\"dataframe\">\n",
       "  <thead>\n",
       "    <tr style=\"text-align: right;\">\n",
       "      <th></th>\n",
       "      <th>subregion</th>\n",
       "      <th>recipe_name</th>\n",
       "      <th>ingredients_inferred</th>\n",
       "      <th>nb_persons</th>\n",
       "      <th>ingredients</th>\n",
       "      <th>recipe_body</th>\n",
       "    </tr>\n",
       "  </thead>\n",
       "  <tbody>\n",
       "    <tr>\n",
       "      <th>0</th>\n",
       "      <td>Alsace</td>\n",
       "      <td>LE KUGELHOPF</td>\n",
       "      <td>with</td>\n",
       "      <td>6</td>\n",
       "      <td>0.5 litre de lait\\n500 g farine\\n250 g beurre\\...</td>\n",
       "      <td>Pour 6 personnes : Mettez dans une terrine 1/2...</td>\n",
       "    </tr>\n",
       "    <tr>\n",
       "      <th>1</th>\n",
       "      <td>Alsace</td>\n",
       "      <td>LE SCHWOWCBREDEL</td>\n",
       "      <td>with</td>\n",
       "      <td>6</td>\n",
       "      <td>500 g farine\\n500 g sucre\\n500 g amandes\\n500 ...</td>\n",
       "      <td>Pour 6 personnes: Mélanger farine et beurre. R...</td>\n",
       "    </tr>\n",
       "    <tr>\n",
       "      <th>2</th>\n",
       "      <td>Alsace</td>\n",
       "      <td>PARFAIT DE FOIE GRAS STRASBOURGEOISE</td>\n",
       "      <td>with</td>\n",
       "      <td>-</td>\n",
       "      <td>1 kg foie gras\\n1 truffe\\n1 dl gelée\\n100 g be...</td>\n",
       "      <td>1 kg de foie gras d’Alsace 1er qualité, dénerv...</td>\n",
       "    </tr>\n",
       "    <tr>\n",
       "      <th>3</th>\n",
       "      <td>Alsace</td>\n",
       "      <td>TRUITES DE LA FECHT COLMARIENNE</td>\n",
       "      <td>with</td>\n",
       "      <td>4</td>\n",
       "      <td>4 truites\\n8 écrevisses\\n4 œufs\\n50 g oignons\\...</td>\n",
       "      <td>Pour 4 personnes: Prenez 4 belles truites du t...</td>\n",
       "    </tr>\n",
       "    <tr>\n",
       "      <th>4</th>\n",
       "      <td>Alsace</td>\n",
       "      <td>LES SCHANKELAS</td>\n",
       "      <td>with</td>\n",
       "      <td>-</td>\n",
       "      <td>375 g sucre\\n250 g amandes\\n200 g beurre\\n250 ...</td>\n",
       "      <td>Ecraser le beurre avec la farine et bien mêler...</td>\n",
       "    </tr>\n",
       "  </tbody>\n",
       "</table>\n",
       "</div>"
      ],
      "text/plain": [
       "  subregion                           recipe_name ingredients_inferred  \\\n",
       "0    Alsace                          LE KUGELHOPF                 with   \n",
       "1    Alsace                      LE SCHWOWCBREDEL                 with   \n",
       "2    Alsace  PARFAIT DE FOIE GRAS STRASBOURGEOISE                 with   \n",
       "3    Alsace       TRUITES DE LA FECHT COLMARIENNE                 with   \n",
       "4    Alsace                        LES SCHANKELAS                 with   \n",
       "\n",
       "  nb_persons                                        ingredients  \\\n",
       "0          6  0.5 litre de lait\\n500 g farine\\n250 g beurre\\...   \n",
       "1          6  500 g farine\\n500 g sucre\\n500 g amandes\\n500 ...   \n",
       "2          -  1 kg foie gras\\n1 truffe\\n1 dl gelée\\n100 g be...   \n",
       "3          4  4 truites\\n8 écrevisses\\n4 œufs\\n50 g oignons\\...   \n",
       "4          -  375 g sucre\\n250 g amandes\\n200 g beurre\\n250 ...   \n",
       "\n",
       "                                         recipe_body  \n",
       "0  Pour 6 personnes : Mettez dans une terrine 1/2...  \n",
       "1  Pour 6 personnes: Mélanger farine et beurre. R...  \n",
       "2  1 kg de foie gras d’Alsace 1er qualité, dénerv...  \n",
       "3  Pour 4 personnes: Prenez 4 belles truites du t...  \n",
       "4  Ecraser le beurre avec la farine et bien mêler...  "
      ]
     },
     "execution_count": 4,
     "metadata": {},
     "output_type": "execute_result"
    }
   ],
   "source": [
    "recipes_df.head()"
   ]
  },
  {
   "cell_type": "markdown",
   "metadata": {},
   "source": [
    "### 2. Data Processing"
   ]
  },
  {
   "cell_type": "code",
   "execution_count": 7,
   "metadata": {},
   "outputs": [
    {
     "name": "stdout",
     "output_type": "stream",
     "text": [
      "653\n"
     ]
    }
   ],
   "source": [
    "contents = collect_all_ingredient_contents(recipes_df)\n",
    "print(len(contents))"
   ]
  },
  {
   "cell_type": "code",
   "execution_count": null,
   "metadata": {},
   "outputs": [],
   "source": []
  }
 ],
 "metadata": {
  "kernelspec": {
   "display_name": "Python 3.8.3 ('base')",
   "language": "python",
   "name": "python3"
  },
  "language_info": {
   "codemirror_mode": {
    "name": "ipython",
    "version": 3
   },
   "file_extension": ".py",
   "mimetype": "text/x-python",
   "name": "python",
   "nbconvert_exporter": "python",
   "pygments_lexer": "ipython3",
   "version": "3.8.3"
  },
  "orig_nbformat": 4,
  "vscode": {
   "interpreter": {
    "hash": "df5ceae52bbda6e1725b704a5e67ee7c92ef665e2a8f5bbd1aaa124f2ba4e995"
   }
  }
 },
 "nbformat": 4,
 "nbformat_minor": 2
}
